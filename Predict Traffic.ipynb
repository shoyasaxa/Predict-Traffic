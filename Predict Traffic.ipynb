{
 "cells": [
  {
   "cell_type": "code",
   "execution_count": 1,
   "metadata": {
    "collapsed": true
   },
   "outputs": [],
   "source": [
    "import pandas as pd \n",
    "import numpy as np\n",
    "from matplotlib import pyplot as plt "
   ]
  },
  {
   "cell_type": "code",
   "execution_count": 2,
   "metadata": {
    "scrolled": true
   },
   "outputs": [
    {
     "data": {
      "text/html": [
       "<div>\n",
       "<style>\n",
       "    .dataframe thead tr:only-child th {\n",
       "        text-align: right;\n",
       "    }\n",
       "\n",
       "    .dataframe thead th {\n",
       "        text-align: left;\n",
       "    }\n",
       "\n",
       "    .dataframe tbody tr th {\n",
       "        vertical-align: top;\n",
       "    }\n",
       "</style>\n",
       "<table border=\"1\" class=\"dataframe\">\n",
       "  <thead>\n",
       "    <tr style=\"text-align: right;\">\n",
       "      <th></th>\n",
       "      <th>Date</th>\n",
       "      <th>Unique visitors</th>\n",
       "      <th>Visits</th>\n",
       "      <th>Users</th>\n",
       "      <th>Actions</th>\n",
       "      <th>Maximum actions in one visit</th>\n",
       "      <th>Bounces</th>\n",
       "      <th>Total time spent by visitors (in seconds)</th>\n",
       "      <th>Conversions</th>\n",
       "      <th>Visits with Conversions</th>\n",
       "      <th>...</th>\n",
       "      <th>Unique returning visitors</th>\n",
       "      <th>Returning Users</th>\n",
       "      <th>Maximum actions in one returning visit</th>\n",
       "      <th>nb_conversions_returning_visit</th>\n",
       "      <th>nb_visits_converted_returning_visit</th>\n",
       "      <th>revenue_returning_visit</th>\n",
       "      <th>conversion_rate_returning_visit</th>\n",
       "      <th>nb_hits_with_time_generation</th>\n",
       "      <th>Avg. generation time</th>\n",
       "      <th>Day of Week</th>\n",
       "    </tr>\n",
       "  </thead>\n",
       "  <tbody>\n",
       "    <tr>\n",
       "      <th>0</th>\n",
       "      <td>2018-04-04</td>\n",
       "      <td>43</td>\n",
       "      <td>51</td>\n",
       "      <td>25</td>\n",
       "      <td>2551</td>\n",
       "      <td>262</td>\n",
       "      <td>6</td>\n",
       "      <td>146979</td>\n",
       "      <td>0</td>\n",
       "      <td>0</td>\n",
       "      <td>...</td>\n",
       "      <td>NaN</td>\n",
       "      <td>NaN</td>\n",
       "      <td>NaN</td>\n",
       "      <td>NaN</td>\n",
       "      <td>NaN</td>\n",
       "      <td>NaN</td>\n",
       "      <td>NaN</td>\n",
       "      <td>NaN</td>\n",
       "      <td>NaN</td>\n",
       "      <td>Wednesday</td>\n",
       "    </tr>\n",
       "    <tr>\n",
       "      <th>1</th>\n",
       "      <td>2018-04-05</td>\n",
       "      <td>275</td>\n",
       "      <td>435</td>\n",
       "      <td>275</td>\n",
       "      <td>21699</td>\n",
       "      <td>1791</td>\n",
       "      <td>58</td>\n",
       "      <td>1682757</td>\n",
       "      <td>0</td>\n",
       "      <td>0</td>\n",
       "      <td>...</td>\n",
       "      <td>15.0</td>\n",
       "      <td>15.0</td>\n",
       "      <td>1791.0</td>\n",
       "      <td>0.0</td>\n",
       "      <td>0.0</td>\n",
       "      <td>0.0</td>\n",
       "      <td>0%</td>\n",
       "      <td>NaN</td>\n",
       "      <td>NaN</td>\n",
       "      <td>Thursday</td>\n",
       "    </tr>\n",
       "    <tr>\n",
       "      <th>2</th>\n",
       "      <td>2018-04-06</td>\n",
       "      <td>317</td>\n",
       "      <td>433</td>\n",
       "      <td>317</td>\n",
       "      <td>25238</td>\n",
       "      <td>2356</td>\n",
       "      <td>51</td>\n",
       "      <td>1564032</td>\n",
       "      <td>0</td>\n",
       "      <td>0</td>\n",
       "      <td>...</td>\n",
       "      <td>14.0</td>\n",
       "      <td>14.0</td>\n",
       "      <td>2356.0</td>\n",
       "      <td>0.0</td>\n",
       "      <td>0.0</td>\n",
       "      <td>0.0</td>\n",
       "      <td>0%</td>\n",
       "      <td>NaN</td>\n",
       "      <td>NaN</td>\n",
       "      <td>Friday</td>\n",
       "    </tr>\n",
       "    <tr>\n",
       "      <th>3</th>\n",
       "      <td>2018-04-07</td>\n",
       "      <td>35</td>\n",
       "      <td>53</td>\n",
       "      <td>35</td>\n",
       "      <td>18651</td>\n",
       "      <td>2283</td>\n",
       "      <td>5</td>\n",
       "      <td>1179181</td>\n",
       "      <td>0</td>\n",
       "      <td>0</td>\n",
       "      <td>...</td>\n",
       "      <td>12.0</td>\n",
       "      <td>12.0</td>\n",
       "      <td>2283.0</td>\n",
       "      <td>0.0</td>\n",
       "      <td>0.0</td>\n",
       "      <td>0.0</td>\n",
       "      <td>0%</td>\n",
       "      <td>NaN</td>\n",
       "      <td>NaN</td>\n",
       "      <td>Saturday</td>\n",
       "    </tr>\n",
       "    <tr>\n",
       "      <th>4</th>\n",
       "      <td>2018-04-08</td>\n",
       "      <td>31</td>\n",
       "      <td>54</td>\n",
       "      <td>31</td>\n",
       "      <td>15204</td>\n",
       "      <td>2176</td>\n",
       "      <td>5</td>\n",
       "      <td>1108012</td>\n",
       "      <td>0</td>\n",
       "      <td>0</td>\n",
       "      <td>...</td>\n",
       "      <td>12.0</td>\n",
       "      <td>12.0</td>\n",
       "      <td>2176.0</td>\n",
       "      <td>0.0</td>\n",
       "      <td>0.0</td>\n",
       "      <td>0.0</td>\n",
       "      <td>0%</td>\n",
       "      <td>NaN</td>\n",
       "      <td>NaN</td>\n",
       "      <td>Sunday</td>\n",
       "    </tr>\n",
       "  </tbody>\n",
       "</table>\n",
       "<p>5 rows × 42 columns</p>\n",
       "</div>"
      ],
      "text/plain": [
       "        Date  Unique visitors  Visits  Users  Actions  \\\n",
       "0 2018-04-04               43      51     25     2551   \n",
       "1 2018-04-05              275     435    275    21699   \n",
       "2 2018-04-06              317     433    317    25238   \n",
       "3 2018-04-07               35      53     35    18651   \n",
       "4 2018-04-08               31      54     31    15204   \n",
       "\n",
       "   Maximum actions in one visit  Bounces  \\\n",
       "0                           262        6   \n",
       "1                          1791       58   \n",
       "2                          2356       51   \n",
       "3                          2283        5   \n",
       "4                          2176        5   \n",
       "\n",
       "   Total time spent by visitors (in seconds)  Conversions  \\\n",
       "0                                     146979            0   \n",
       "1                                    1682757            0   \n",
       "2                                    1564032            0   \n",
       "3                                    1179181            0   \n",
       "4                                    1108012            0   \n",
       "\n",
       "   Visits with Conversions     ...       Unique returning visitors  \\\n",
       "0                        0     ...                             NaN   \n",
       "1                        0     ...                            15.0   \n",
       "2                        0     ...                            14.0   \n",
       "3                        0     ...                            12.0   \n",
       "4                        0     ...                            12.0   \n",
       "\n",
       "  Returning Users  Maximum actions in one returning visit  \\\n",
       "0             NaN                                     NaN   \n",
       "1            15.0                                  1791.0   \n",
       "2            14.0                                  2356.0   \n",
       "3            12.0                                  2283.0   \n",
       "4            12.0                                  2176.0   \n",
       "\n",
       "   nb_conversions_returning_visit  nb_visits_converted_returning_visit  \\\n",
       "0                             NaN                                  NaN   \n",
       "1                             0.0                                  0.0   \n",
       "2                             0.0                                  0.0   \n",
       "3                             0.0                                  0.0   \n",
       "4                             0.0                                  0.0   \n",
       "\n",
       "  revenue_returning_visit  conversion_rate_returning_visit  \\\n",
       "0                     NaN                              NaN   \n",
       "1                     0.0                               0%   \n",
       "2                     0.0                               0%   \n",
       "3                     0.0                               0%   \n",
       "4                     0.0                               0%   \n",
       "\n",
       "   nb_hits_with_time_generation  Avg. generation time  Day of Week  \n",
       "0                           NaN                   NaN    Wednesday  \n",
       "1                           NaN                   NaN     Thursday  \n",
       "2                           NaN                   NaN       Friday  \n",
       "3                           NaN                   NaN     Saturday  \n",
       "4                           NaN                   NaN       Sunday  \n",
       "\n",
       "[5 rows x 42 columns]"
      ]
     },
     "metadata": {},
     "output_type": "display_data"
    },
    {
     "data": {
      "text/plain": [
       "Index(['Date', 'Unique visitors', 'Visits', 'Users', 'Actions',\n",
       "       'Maximum actions in one visit', 'Bounces',\n",
       "       'Total time spent by visitors (in seconds)', 'Conversions',\n",
       "       'Visits with Conversions', 'Revenue', 'Conversion Rate',\n",
       "       'nb_conversions_new_visit', 'nb_visits_converted_new_visit',\n",
       "       'revenue_new_visit', 'conversion_rate_new_visit', 'Pageviews',\n",
       "       'Unique Pageviews', 'Downloads', 'Unique Downloads', 'Outlinks',\n",
       "       'Unique Outlinks', 'Searches', 'Unique Keywords', 'Bounce Rate',\n",
       "       'Actions per Visit', 'Avg. Visit Duration (in seconds)',\n",
       "       'Avg. Duration of a Returning Visit (in sec)',\n",
       "       'Avg. Actions per Returning Visit', 'Bounce Rate for Returning Visits',\n",
       "       'Returning Visits', 'Actions by Returning Visits',\n",
       "       'Unique returning visitors', 'Returning Users',\n",
       "       'Maximum actions in one returning visit',\n",
       "       'nb_conversions_returning_visit', 'nb_visits_converted_returning_visit',\n",
       "       'revenue_returning_visit', 'conversion_rate_returning_visit',\n",
       "       'nb_hits_with_time_generation', 'Avg. generation time', 'Day of Week'],\n",
       "      dtype='object')"
      ]
     },
     "metadata": {},
     "output_type": "display_data"
    }
   ],
   "source": [
    "master_df = pd.read_csv(r'C:\\Users\\Shoya\\Senseai\\data\\Traffic_Data.csv', encoding=\"ISO-8859-1\")\n",
    "                    \n",
    "master_df['Date'] = pd.to_datetime(master_df['Date'])\n",
    "master_df['Day of Week'] = master_df['Date'].dt.weekday_name\n",
    "    \n",
    "display(master_df.head())\n",
    "display(master_df.columns)"
   ]
  },
  {
   "cell_type": "code",
   "execution_count": 3,
   "metadata": {},
   "outputs": [
    {
     "data": {
      "text/plain": [
       "0    2882\n",
       "1    3840\n",
       "Name: Avg. Visit Duration, dtype: int64"
      ]
     },
     "metadata": {},
     "output_type": "display_data"
    }
   ],
   "source": [
    "def convert_to_seconds(val):\n",
    "    words = val.split()\n",
    "    if (len(words) == 1 ):\n",
    "        # format: only seconds \n",
    "        return int(val[:-1])\n",
    "    elif ('hours' in words):\n",
    "        # format: hours, min \n",
    "        return (int(words[0]) * 3600) + ( int(words[2]) * 60 )\n",
    "    else:\n",
    "        # format: min, seconds\n",
    "        try:\n",
    "            return ( int(words[0]) * 60 ) + ( int(words[-1][:-1]) )\n",
    "        except:\n",
    "            return None \n",
    "    \n",
    "master_df['Avg. Visit Duration'] = master_df['Avg. Visit Duration (in seconds)'].apply(convert_to_seconds)\n",
    "\n",
    "display(master_df['Avg. Visit Duration'].head(2))"
   ]
  },
  {
   "cell_type": "code",
   "execution_count": 4,
   "metadata": {},
   "outputs": [
    {
     "data": {
      "text/plain": [
       "array(['Wednesday', 'Thursday', 'Friday', 'Saturday', 'Sunday', 'Monday',\n",
       "       'Tuesday', 'Wednesday'], dtype=object)"
      ]
     },
     "metadata": {},
     "output_type": "display_data"
    },
    {
     "data": {
      "text/plain": [
       "array([[ 0.,  0.,  0.,  0.,  0.,  0.,  1.],\n",
       "       [ 0.,  0.,  0.,  0.,  1.,  0.,  0.],\n",
       "       [ 1.,  0.,  0.,  0.,  0.,  0.,  0.],\n",
       "       [ 0.,  0.,  1.,  0.,  0.,  0.,  0.],\n",
       "       [ 0.,  0.,  0.,  1.,  0.,  0.,  0.],\n",
       "       [ 0.,  1.,  0.,  0.,  0.,  0.,  0.],\n",
       "       [ 0.,  0.,  0.,  0.,  0.,  1.,  0.],\n",
       "       [ 0.,  0.,  0.,  0.,  0.,  0.,  1.]])"
      ]
     },
     "metadata": {},
     "output_type": "display_data"
    },
    {
     "data": {
      "text/html": [
       "<div>\n",
       "<style>\n",
       "    .dataframe thead tr:only-child th {\n",
       "        text-align: right;\n",
       "    }\n",
       "\n",
       "    .dataframe thead th {\n",
       "        text-align: left;\n",
       "    }\n",
       "\n",
       "    .dataframe tbody tr th {\n",
       "        vertical-align: top;\n",
       "    }\n",
       "</style>\n",
       "<table border=\"1\" class=\"dataframe\">\n",
       "  <thead>\n",
       "    <tr style=\"text-align: right;\">\n",
       "      <th></th>\n",
       "      <th>Date</th>\n",
       "      <th>Unique visitors</th>\n",
       "      <th>Visits</th>\n",
       "      <th>Users</th>\n",
       "      <th>Actions</th>\n",
       "      <th>Maximum actions in one visit</th>\n",
       "      <th>Bounces</th>\n",
       "      <th>Total time spent by visitors (in seconds)</th>\n",
       "      <th>Conversions</th>\n",
       "      <th>Visits with Conversions</th>\n",
       "      <th>...</th>\n",
       "      <th>Avg. generation time</th>\n",
       "      <th>Day of Week</th>\n",
       "      <th>Avg. Visit Duration</th>\n",
       "      <th>d1</th>\n",
       "      <th>d2</th>\n",
       "      <th>d3</th>\n",
       "      <th>d4</th>\n",
       "      <th>d5</th>\n",
       "      <th>d6</th>\n",
       "      <th>d7</th>\n",
       "    </tr>\n",
       "  </thead>\n",
       "  <tbody>\n",
       "    <tr>\n",
       "      <th>0</th>\n",
       "      <td>2018-04-04</td>\n",
       "      <td>43</td>\n",
       "      <td>51</td>\n",
       "      <td>25</td>\n",
       "      <td>2551</td>\n",
       "      <td>262</td>\n",
       "      <td>6</td>\n",
       "      <td>146979</td>\n",
       "      <td>0</td>\n",
       "      <td>0</td>\n",
       "      <td>...</td>\n",
       "      <td>NaN</td>\n",
       "      <td>Wednesday</td>\n",
       "      <td>2882</td>\n",
       "      <td>0.0</td>\n",
       "      <td>0.0</td>\n",
       "      <td>0.0</td>\n",
       "      <td>0.0</td>\n",
       "      <td>0.0</td>\n",
       "      <td>0.0</td>\n",
       "      <td>1.0</td>\n",
       "    </tr>\n",
       "    <tr>\n",
       "      <th>1</th>\n",
       "      <td>2018-04-05</td>\n",
       "      <td>275</td>\n",
       "      <td>435</td>\n",
       "      <td>275</td>\n",
       "      <td>21699</td>\n",
       "      <td>1791</td>\n",
       "      <td>58</td>\n",
       "      <td>1682757</td>\n",
       "      <td>0</td>\n",
       "      <td>0</td>\n",
       "      <td>...</td>\n",
       "      <td>NaN</td>\n",
       "      <td>Thursday</td>\n",
       "      <td>3840</td>\n",
       "      <td>0.0</td>\n",
       "      <td>0.0</td>\n",
       "      <td>0.0</td>\n",
       "      <td>0.0</td>\n",
       "      <td>1.0</td>\n",
       "      <td>0.0</td>\n",
       "      <td>0.0</td>\n",
       "    </tr>\n",
       "    <tr>\n",
       "      <th>2</th>\n",
       "      <td>2018-04-06</td>\n",
       "      <td>317</td>\n",
       "      <td>433</td>\n",
       "      <td>317</td>\n",
       "      <td>25238</td>\n",
       "      <td>2356</td>\n",
       "      <td>51</td>\n",
       "      <td>1564032</td>\n",
       "      <td>0</td>\n",
       "      <td>0</td>\n",
       "      <td>...</td>\n",
       "      <td>NaN</td>\n",
       "      <td>Friday</td>\n",
       "      <td>3600</td>\n",
       "      <td>1.0</td>\n",
       "      <td>0.0</td>\n",
       "      <td>0.0</td>\n",
       "      <td>0.0</td>\n",
       "      <td>0.0</td>\n",
       "      <td>0.0</td>\n",
       "      <td>0.0</td>\n",
       "    </tr>\n",
       "  </tbody>\n",
       "</table>\n",
       "<p>3 rows × 50 columns</p>\n",
       "</div>"
      ],
      "text/plain": [
       "        Date  Unique visitors  Visits  Users  Actions  \\\n",
       "0 2018-04-04               43      51     25     2551   \n",
       "1 2018-04-05              275     435    275    21699   \n",
       "2 2018-04-06              317     433    317    25238   \n",
       "\n",
       "   Maximum actions in one visit  Bounces  \\\n",
       "0                           262        6   \n",
       "1                          1791       58   \n",
       "2                          2356       51   \n",
       "\n",
       "   Total time spent by visitors (in seconds)  Conversions  \\\n",
       "0                                     146979            0   \n",
       "1                                    1682757            0   \n",
       "2                                    1564032            0   \n",
       "\n",
       "   Visits with Conversions ...   Avg. generation time Day of Week  \\\n",
       "0                        0 ...                    NaN   Wednesday   \n",
       "1                        0 ...                    NaN    Thursday   \n",
       "2                        0 ...                    NaN      Friday   \n",
       "\n",
       "   Avg. Visit Duration   d1   d2   d3   d4   d5   d6   d7  \n",
       "0                 2882  0.0  0.0  0.0  0.0  0.0  0.0  1.0  \n",
       "1                 3840  0.0  0.0  0.0  0.0  1.0  0.0  0.0  \n",
       "2                 3600  1.0  0.0  0.0  0.0  0.0  0.0  0.0  \n",
       "\n",
       "[3 rows x 50 columns]"
      ]
     },
     "metadata": {},
     "output_type": "display_data"
    }
   ],
   "source": [
    "from sklearn.preprocessing import LabelEncoder\n",
    "from sklearn.preprocessing import OneHotEncoder\n",
    "\n",
    "# One hot encode Day of Week \n",
    "\n",
    "days_of_week_values = master_df['Day of Week'].values\n",
    "\n",
    "label_encoder = LabelEncoder()\n",
    "integer_encoded = label_encoder.fit_transform(days_of_week_values)\n",
    "\n",
    "onehot_encoder = OneHotEncoder(sparse=False)\n",
    "integer_encoded = integer_encoded.reshape(len(integer_encoded), 1)\n",
    "onehot_encoded = onehot_encoder.fit_transform(integer_encoded)\n",
    "\n",
    "display(days_of_week_values[:8])\n",
    "display(onehot_encoded[:8])\n",
    "\n",
    "days_of_week_df = pd.DataFrame(onehot_encoded, columns=['d1', 'd2', 'd3', 'd4', 'd5', 'd6', 'd7'])\n",
    "\n",
    "master_df = master_df.join(days_of_week_df, how='outer')\n",
    "display(master_df.head(3))"
   ]
  },
  {
   "cell_type": "code",
   "execution_count": 5,
   "metadata": {},
   "outputs": [
    {
     "data": {
      "text/html": [
       "<div>\n",
       "<style>\n",
       "    .dataframe thead tr:only-child th {\n",
       "        text-align: right;\n",
       "    }\n",
       "\n",
       "    .dataframe thead th {\n",
       "        text-align: left;\n",
       "    }\n",
       "\n",
       "    .dataframe tbody tr th {\n",
       "        vertical-align: top;\n",
       "    }\n",
       "</style>\n",
       "<table border=\"1\" class=\"dataframe\">\n",
       "  <thead>\n",
       "    <tr style=\"text-align: right;\">\n",
       "      <th></th>\n",
       "      <th>Date</th>\n",
       "      <th>Unique visitors</th>\n",
       "      <th>Visits</th>\n",
       "      <th>Users</th>\n",
       "      <th>Actions</th>\n",
       "      <th>Maximum actions in one visit</th>\n",
       "      <th>Bounces</th>\n",
       "      <th>Total time spent by visitors (in seconds)</th>\n",
       "      <th>Conversions</th>\n",
       "      <th>Visits with Conversions</th>\n",
       "      <th>...</th>\n",
       "      <th>Day of Week</th>\n",
       "      <th>Avg. Visit Duration</th>\n",
       "      <th>d1</th>\n",
       "      <th>d2</th>\n",
       "      <th>d3</th>\n",
       "      <th>d4</th>\n",
       "      <th>d5</th>\n",
       "      <th>d6</th>\n",
       "      <th>d7</th>\n",
       "      <th>Unique visitors (t-1)</th>\n",
       "    </tr>\n",
       "  </thead>\n",
       "  <tbody>\n",
       "    <tr>\n",
       "      <th>0</th>\n",
       "      <td>2018-04-04</td>\n",
       "      <td>43</td>\n",
       "      <td>51</td>\n",
       "      <td>25</td>\n",
       "      <td>2551</td>\n",
       "      <td>262</td>\n",
       "      <td>6</td>\n",
       "      <td>146979</td>\n",
       "      <td>0</td>\n",
       "      <td>0</td>\n",
       "      <td>...</td>\n",
       "      <td>Wednesday</td>\n",
       "      <td>2882</td>\n",
       "      <td>0.0</td>\n",
       "      <td>0.0</td>\n",
       "      <td>0.0</td>\n",
       "      <td>0.0</td>\n",
       "      <td>0.0</td>\n",
       "      <td>0.0</td>\n",
       "      <td>1.0</td>\n",
       "      <td>NaN</td>\n",
       "    </tr>\n",
       "    <tr>\n",
       "      <th>1</th>\n",
       "      <td>2018-04-05</td>\n",
       "      <td>275</td>\n",
       "      <td>435</td>\n",
       "      <td>275</td>\n",
       "      <td>21699</td>\n",
       "      <td>1791</td>\n",
       "      <td>58</td>\n",
       "      <td>1682757</td>\n",
       "      <td>0</td>\n",
       "      <td>0</td>\n",
       "      <td>...</td>\n",
       "      <td>Thursday</td>\n",
       "      <td>3840</td>\n",
       "      <td>0.0</td>\n",
       "      <td>0.0</td>\n",
       "      <td>0.0</td>\n",
       "      <td>0.0</td>\n",
       "      <td>1.0</td>\n",
       "      <td>0.0</td>\n",
       "      <td>0.0</td>\n",
       "      <td>43.0</td>\n",
       "    </tr>\n",
       "    <tr>\n",
       "      <th>2</th>\n",
       "      <td>2018-04-06</td>\n",
       "      <td>317</td>\n",
       "      <td>433</td>\n",
       "      <td>317</td>\n",
       "      <td>25238</td>\n",
       "      <td>2356</td>\n",
       "      <td>51</td>\n",
       "      <td>1564032</td>\n",
       "      <td>0</td>\n",
       "      <td>0</td>\n",
       "      <td>...</td>\n",
       "      <td>Friday</td>\n",
       "      <td>3600</td>\n",
       "      <td>1.0</td>\n",
       "      <td>0.0</td>\n",
       "      <td>0.0</td>\n",
       "      <td>0.0</td>\n",
       "      <td>0.0</td>\n",
       "      <td>0.0</td>\n",
       "      <td>0.0</td>\n",
       "      <td>275.0</td>\n",
       "    </tr>\n",
       "    <tr>\n",
       "      <th>3</th>\n",
       "      <td>2018-04-07</td>\n",
       "      <td>35</td>\n",
       "      <td>53</td>\n",
       "      <td>35</td>\n",
       "      <td>18651</td>\n",
       "      <td>2283</td>\n",
       "      <td>5</td>\n",
       "      <td>1179181</td>\n",
       "      <td>0</td>\n",
       "      <td>0</td>\n",
       "      <td>...</td>\n",
       "      <td>Saturday</td>\n",
       "      <td>22200</td>\n",
       "      <td>0.0</td>\n",
       "      <td>0.0</td>\n",
       "      <td>1.0</td>\n",
       "      <td>0.0</td>\n",
       "      <td>0.0</td>\n",
       "      <td>0.0</td>\n",
       "      <td>0.0</td>\n",
       "      <td>317.0</td>\n",
       "    </tr>\n",
       "  </tbody>\n",
       "</table>\n",
       "<p>4 rows × 51 columns</p>\n",
       "</div>"
      ],
      "text/plain": [
       "        Date  Unique visitors  Visits  Users  Actions  \\\n",
       "0 2018-04-04               43      51     25     2551   \n",
       "1 2018-04-05              275     435    275    21699   \n",
       "2 2018-04-06              317     433    317    25238   \n",
       "3 2018-04-07               35      53     35    18651   \n",
       "\n",
       "   Maximum actions in one visit  Bounces  \\\n",
       "0                           262        6   \n",
       "1                          1791       58   \n",
       "2                          2356       51   \n",
       "3                          2283        5   \n",
       "\n",
       "   Total time spent by visitors (in seconds)  Conversions  \\\n",
       "0                                     146979            0   \n",
       "1                                    1682757            0   \n",
       "2                                    1564032            0   \n",
       "3                                    1179181            0   \n",
       "\n",
       "   Visits with Conversions          ...            Day of Week  \\\n",
       "0                        0          ...              Wednesday   \n",
       "1                        0          ...               Thursday   \n",
       "2                        0          ...                 Friday   \n",
       "3                        0          ...               Saturday   \n",
       "\n",
       "  Avg. Visit Duration   d1   d2   d3   d4   d5   d6   d7  \\\n",
       "0                2882  0.0  0.0  0.0  0.0  0.0  0.0  1.0   \n",
       "1                3840  0.0  0.0  0.0  0.0  1.0  0.0  0.0   \n",
       "2                3600  1.0  0.0  0.0  0.0  0.0  0.0  0.0   \n",
       "3               22200  0.0  0.0  1.0  0.0  0.0  0.0  0.0   \n",
       "\n",
       "   Unique visitors (t-1)  \n",
       "0                    NaN  \n",
       "1                   43.0  \n",
       "2                  275.0  \n",
       "3                  317.0  \n",
       "\n",
       "[4 rows x 51 columns]"
      ]
     },
     "execution_count": 5,
     "metadata": {},
     "output_type": "execute_result"
    }
   ],
   "source": [
    "master_df['Unique visitors (t-1)'] = master_df['Unique visitors'].shift(1)\n",
    "master_df.head(4)"
   ]
  },
  {
   "cell_type": "code",
   "execution_count": 6,
   "metadata": {},
   "outputs": [
    {
     "data": {
      "text/html": [
       "<div>\n",
       "<style>\n",
       "    .dataframe thead tr:only-child th {\n",
       "        text-align: right;\n",
       "    }\n",
       "\n",
       "    .dataframe thead th {\n",
       "        text-align: left;\n",
       "    }\n",
       "\n",
       "    .dataframe tbody tr th {\n",
       "        vertical-align: top;\n",
       "    }\n",
       "</style>\n",
       "<table border=\"1\" class=\"dataframe\">\n",
       "  <thead>\n",
       "    <tr style=\"text-align: right;\">\n",
       "      <th></th>\n",
       "      <th>Unique visitors</th>\n",
       "      <th>Visits</th>\n",
       "      <th>Users</th>\n",
       "      <th>Bounces</th>\n",
       "      <th>Total time spent by visitors (in seconds)</th>\n",
       "      <th>Avg. Visit Duration</th>\n",
       "      <th>d1</th>\n",
       "      <th>d2</th>\n",
       "      <th>d3</th>\n",
       "      <th>d4</th>\n",
       "      <th>d5</th>\n",
       "      <th>d6</th>\n",
       "      <th>d7</th>\n",
       "      <th>Unique visitors (t-1)</th>\n",
       "    </tr>\n",
       "  </thead>\n",
       "  <tbody>\n",
       "    <tr>\n",
       "      <th>0</th>\n",
       "      <td>43</td>\n",
       "      <td>51</td>\n",
       "      <td>25</td>\n",
       "      <td>6</td>\n",
       "      <td>146979</td>\n",
       "      <td>2882</td>\n",
       "      <td>0.0</td>\n",
       "      <td>0.0</td>\n",
       "      <td>0.0</td>\n",
       "      <td>0.0</td>\n",
       "      <td>0.0</td>\n",
       "      <td>0.0</td>\n",
       "      <td>1.0</td>\n",
       "      <td>NaN</td>\n",
       "    </tr>\n",
       "    <tr>\n",
       "      <th>1</th>\n",
       "      <td>275</td>\n",
       "      <td>435</td>\n",
       "      <td>275</td>\n",
       "      <td>58</td>\n",
       "      <td>1682757</td>\n",
       "      <td>3840</td>\n",
       "      <td>0.0</td>\n",
       "      <td>0.0</td>\n",
       "      <td>0.0</td>\n",
       "      <td>0.0</td>\n",
       "      <td>1.0</td>\n",
       "      <td>0.0</td>\n",
       "      <td>0.0</td>\n",
       "      <td>43.0</td>\n",
       "    </tr>\n",
       "    <tr>\n",
       "      <th>2</th>\n",
       "      <td>317</td>\n",
       "      <td>433</td>\n",
       "      <td>317</td>\n",
       "      <td>51</td>\n",
       "      <td>1564032</td>\n",
       "      <td>3600</td>\n",
       "      <td>1.0</td>\n",
       "      <td>0.0</td>\n",
       "      <td>0.0</td>\n",
       "      <td>0.0</td>\n",
       "      <td>0.0</td>\n",
       "      <td>0.0</td>\n",
       "      <td>0.0</td>\n",
       "      <td>275.0</td>\n",
       "    </tr>\n",
       "    <tr>\n",
       "      <th>3</th>\n",
       "      <td>35</td>\n",
       "      <td>53</td>\n",
       "      <td>35</td>\n",
       "      <td>5</td>\n",
       "      <td>1179181</td>\n",
       "      <td>22200</td>\n",
       "      <td>0.0</td>\n",
       "      <td>0.0</td>\n",
       "      <td>1.0</td>\n",
       "      <td>0.0</td>\n",
       "      <td>0.0</td>\n",
       "      <td>0.0</td>\n",
       "      <td>0.0</td>\n",
       "      <td>317.0</td>\n",
       "    </tr>\n",
       "    <tr>\n",
       "      <th>4</th>\n",
       "      <td>31</td>\n",
       "      <td>54</td>\n",
       "      <td>31</td>\n",
       "      <td>5</td>\n",
       "      <td>1108012</td>\n",
       "      <td>20460</td>\n",
       "      <td>0.0</td>\n",
       "      <td>0.0</td>\n",
       "      <td>0.0</td>\n",
       "      <td>1.0</td>\n",
       "      <td>0.0</td>\n",
       "      <td>0.0</td>\n",
       "      <td>0.0</td>\n",
       "      <td>35.0</td>\n",
       "    </tr>\n",
       "  </tbody>\n",
       "</table>\n",
       "</div>"
      ],
      "text/plain": [
       "   Unique visitors  Visits  Users  Bounces  \\\n",
       "0               43      51     25        6   \n",
       "1              275     435    275       58   \n",
       "2              317     433    317       51   \n",
       "3               35      53     35        5   \n",
       "4               31      54     31        5   \n",
       "\n",
       "   Total time spent by visitors (in seconds)  Avg. Visit Duration   d1   d2  \\\n",
       "0                                     146979                 2882  0.0  0.0   \n",
       "1                                    1682757                 3840  0.0  0.0   \n",
       "2                                    1564032                 3600  1.0  0.0   \n",
       "3                                    1179181                22200  0.0  0.0   \n",
       "4                                    1108012                20460  0.0  0.0   \n",
       "\n",
       "    d3   d4   d5   d6   d7  Unique visitors (t-1)  \n",
       "0  0.0  0.0  0.0  0.0  1.0                    NaN  \n",
       "1  0.0  0.0  1.0  0.0  0.0                   43.0  \n",
       "2  0.0  0.0  0.0  0.0  0.0                  275.0  \n",
       "3  1.0  0.0  0.0  0.0  0.0                  317.0  \n",
       "4  0.0  1.0  0.0  0.0  0.0                   35.0  "
      ]
     },
     "metadata": {},
     "output_type": "display_data"
    },
    {
     "data": {
      "image/png": "[encoded data removed]",
      "text/plain": [
       "<matplotlib.figure.Figure at 0x200cc3543c8>"
      ]
     },
     "metadata": {},
     "output_type": "display_data"
    }
   ],
   "source": [
    "fig = plt.figure(figsize=(30,30))\n",
    "\n",
    "columns = ['Unique visitors', 'Visits', 'Users', 'Bounces', 'Total time spent by visitors (in seconds)','Avg. Visit Duration', 'd1', 'd2', 'd3', 'd4', 'd5', 'd6', 'd7', 'Unique visitors (t-1)']\n",
    "\n",
    "df = master_df[columns]\n",
    "display(df.head())\n",
    "\n",
    "i = 1 \n",
    "for column in columns[:6]:\n",
    "    ax = plt.subplot(len(columns), 1, i)\n",
    "    plt.plot(df[column])\n",
    "    plt.title(str(column), y=0.5, loc='right', fontsize=30)\n",
    "    i += 1 \n",
    "plt.show()"
   ]
  },
  {
   "cell_type": "code",
   "execution_count": 7,
   "metadata": {},
   "outputs": [
    {
     "name": "stdout",
     "output_type": "stream",
     "text": [
      "Observations: 41\n",
      "Training Observations: 31\n",
      "Testing Observations: 9\n"
     ]
    }
   ],
   "source": [
    "from tpot import TPOTRegressor\n",
    "from sklearn.model_selection import TimeSeriesSplit\n",
    "\n",
    "tscv = TimeSeriesSplit(n_splits=3)\n",
    "\n",
    "X = df[['d1', 'd2', 'd3', 'd4', 'd5', 'd6', 'd7', 'Unique visitors (t-1)']].values\n",
    "Y = df['Unique visitors'].values\n",
    "\n",
    "train_size = int(len(X) * 0.8)\n",
    "X_train, X_test = X[1:train_size], X[train_size:len(X)]\n",
    "Y_train, Y_test = Y[1:train_size], Y[train_size:len(X)]\n",
    "print('Observations: %d' % (len(X)))\n",
    "print('Training Observations: %d' % (len(X_train)))\n",
    "print('Testing Observations: %d' % (len(Y_test)))"
   ]
  },
  {
   "cell_type": "code",
   "execution_count": 11,
   "metadata": {},
   "outputs": [
    {
     "name": "stderr",
     "output_type": "stream",
     "text": [
      "                                                                                                                       \r"
     ]
    },
    {
     "name": "stdout",
     "output_type": "stream",
     "text": [
      "Generation 1 - Current best internal CV score: -47417.75088760792\n"
     ]
    },
    {
     "name": "stderr",
     "output_type": "stream",
     "text": [
      "                                                                                                                       \r"
     ]
    },
    {
     "name": "stdout",
     "output_type": "stream",
     "text": [
      "Generation 2 - Current best internal CV score: -47417.75088760792\n"
     ]
    },
    {
     "name": "stderr",
     "output_type": "stream",
     "text": [
      "                                                                                                                       \r"
     ]
    },
    {
     "name": "stdout",
     "output_type": "stream",
     "text": [
      "Generation 3 - Current best internal CV score: -44666.61003315902\n"
     ]
    },
    {
     "name": "stderr",
     "output_type": "stream",
     "text": [
      "                                                                                                                       \r"
     ]
    },
    {
     "name": "stdout",
     "output_type": "stream",
     "text": [
      "Generation 4 - Current best internal CV score: -44666.61003315902\n"
     ]
    },
    {
     "name": "stderr",
     "output_type": "stream",
     "text": [
      "                                                                                                                       \r"
     ]
    },
    {
     "name": "stdout",
     "output_type": "stream",
     "text": [
      "Generation 5 - Current best internal CV score: -44666.61003315902\n"
     ]
    },
    {
     "name": "stderr",
     "output_type": "stream",
     "text": [
      "                                                                                                                       \r"
     ]
    },
    {
     "name": "stdout",
     "output_type": "stream",
     "text": [
      "Generation 6 - Current best internal CV score: -44666.61003315902\n"
     ]
    },
    {
     "name": "stderr",
     "output_type": "stream",
     "text": [
      "                                                                                                                       \r"
     ]
    },
    {
     "name": "stdout",
     "output_type": "stream",
     "text": [
      "Generation 7 - Current best internal CV score: -43714.72929214898\n"
     ]
    },
    {
     "name": "stderr",
     "output_type": "stream",
     "text": [
      "                                                                                                                       \r"
     ]
    },
    {
     "name": "stdout",
     "output_type": "stream",
     "text": [
      "Generation 8 - Current best internal CV score: -42398.93737203811\n"
     ]
    },
    {
     "name": "stderr",
     "output_type": "stream",
     "text": [
      "                                                                                                                       \r"
     ]
    },
    {
     "name": "stdout",
     "output_type": "stream",
     "text": [
      "Generation 9 - Current best internal CV score: -42061.599345536095\n"
     ]
    },
    {
     "name": "stderr",
     "output_type": "stream",
     "text": [
      "                                                                                                                       \r"
     ]
    },
    {
     "name": "stdout",
     "output_type": "stream",
     "text": [
      "Generation 10 - Current best internal CV score: -42061.599345536095\n"
     ]
    },
    {
     "name": "stderr",
     "output_type": "stream",
     "text": [
      "                                                                                                                       \r"
     ]
    },
    {
     "name": "stdout",
     "output_type": "stream",
     "text": [
      "Generation 11 - Current best internal CV score: -42061.599345536095\n"
     ]
    },
    {
     "name": "stderr",
     "output_type": "stream",
     "text": [
      "                                                                                                                       \r"
     ]
    },
    {
     "name": "stdout",
     "output_type": "stream",
     "text": [
      "Generation 12 - Current best internal CV score: -41886.830321874564\n"
     ]
    },
    {
     "name": "stderr",
     "output_type": "stream",
     "text": [
      "                                                                                                                       \r"
     ]
    },
    {
     "name": "stdout",
     "output_type": "stream",
     "text": [
      "Generation 13 - Current best internal CV score: -41186.3763042413\n"
     ]
    },
    {
     "name": "stderr",
     "output_type": "stream",
     "text": [
      "                                                                                                                       \r"
     ]
    },
    {
     "name": "stdout",
     "output_type": "stream",
     "text": [
      "Generation 14 - Current best internal CV score: -40390.19025019506\n"
     ]
    },
    {
     "name": "stderr",
     "output_type": "stream",
     "text": [
      "                                                                                                                       \r"
     ]
    },
    {
     "name": "stdout",
     "output_type": "stream",
     "text": [
      "Generation 15 - Current best internal CV score: -37855.75950675588\n"
     ]
    },
    {
     "name": "stderr",
     "output_type": "stream",
     "text": [
      "                                                                                                                       \r"
     ]
    },
    {
     "name": "stdout",
     "output_type": "stream",
     "text": [
      "Generation 16 - Current best internal CV score: -37855.75950675588\n"
     ]
    },
    {
     "name": "stderr",
     "output_type": "stream",
     "text": [
      "                                                                                                                       \r"
     ]
    },
    {
     "name": "stdout",
     "output_type": "stream",
     "text": [
      "Generation 17 - Current best internal CV score: -37855.75950675588\n"
     ]
    },
    {
     "name": "stderr",
     "output_type": "stream",
     "text": [
      "                                                                                                                       \r"
     ]
    },
    {
     "name": "stdout",
     "output_type": "stream",
     "text": [
      "Generation 18 - Current best internal CV score: -37855.75950675588\n"
     ]
    },
    {
     "name": "stderr",
     "output_type": "stream",
     "text": [
      "                                                                                                                       \r"
     ]
    },
    {
     "name": "stdout",
     "output_type": "stream",
     "text": [
      "Generation 19 - Current best internal CV score: -37855.75950675588\n"
     ]
    },
    {
     "name": "stderr",
     "output_type": "stream",
     "text": [
      "                                                                                                                       \r"
     ]
    },
    {
     "name": "stdout",
     "output_type": "stream",
     "text": [
      "Generation 20 - Current best internal CV score: -37855.75950675588\n"
     ]
    },
    {
     "name": "stderr",
     "output_type": "stream",
     "text": [
      "                                                                                                                       \r"
     ]
    },
    {
     "name": "stdout",
     "output_type": "stream",
     "text": [
      "Generation 21 - Current best internal CV score: -37855.75950675588\n"
     ]
    },
    {
     "name": "stderr",
     "output_type": "stream",
     "text": [
      "                                                                                                                       \r"
     ]
    },
    {
     "name": "stdout",
     "output_type": "stream",
     "text": [
      "Generation 22 - Current best internal CV score: -36627.52678787388\n"
     ]
    },
    {
     "name": "stderr",
     "output_type": "stream",
     "text": [
      "                                                                                                                       \r"
     ]
    },
    {
     "name": "stdout",
     "output_type": "stream",
     "text": [
      "Generation 23 - Current best internal CV score: -36627.52678787388\n"
     ]
    },
    {
     "name": "stderr",
     "output_type": "stream",
     "text": [
      "                                                                                                                       \r"
     ]
    },
    {
     "name": "stdout",
     "output_type": "stream",
     "text": [
      "Generation 24 - Current best internal CV score: -35537.5081866834\n"
     ]
    },
    {
     "name": "stderr",
     "output_type": "stream",
     "text": [
      "                                                                                                                       \r"
     ]
    },
    {
     "name": "stdout",
     "output_type": "stream",
     "text": [
      "Generation 25 - Current best internal CV score: -35537.5081866834\n"
     ]
    },
    {
     "name": "stderr",
     "output_type": "stream",
     "text": [
      "                                                                                                                       \r"
     ]
    },
    {
     "name": "stdout",
     "output_type": "stream",
     "text": [
      "Generation 26 - Current best internal CV score: -34899.3371329365\n"
     ]
    },
    {
     "name": "stderr",
     "output_type": "stream",
     "text": [
      "                                                                                                                       \r"
     ]
    },
    {
     "name": "stdout",
     "output_type": "stream",
     "text": [
      "Generation 27 - Current best internal CV score: -34899.3371329365\n"
     ]
    },
    {
     "name": "stderr",
     "output_type": "stream",
     "text": [
      "                                                                                                                       \r"
     ]
    },
    {
     "name": "stdout",
     "output_type": "stream",
     "text": [
      "Generation 28 - Current best internal CV score: -34899.3371329365\n"
     ]
    },
    {
     "name": "stderr",
     "output_type": "stream",
     "text": [
      "                                                                                                                       \r"
     ]
    },
    {
     "name": "stdout",
     "output_type": "stream",
     "text": [
      "Generation 29 - Current best internal CV score: -34899.3371329365\n"
     ]
    },
    {
     "name": "stderr",
     "output_type": "stream",
     "text": [
      "                                                                                                                       \r"
     ]
    },
    {
     "name": "stdout",
     "output_type": "stream",
     "text": [
      "Generation 30 - Current best internal CV score: -34899.3371329365\n"
     ]
    },
    {
     "name": "stderr",
     "output_type": "stream",
     "text": [
      "                                                                                                                       \r"
     ]
    },
    {
     "name": "stdout",
     "output_type": "stream",
     "text": [
      "Generation 31 - Current best internal CV score: -34899.3371329365\n"
     ]
    },
    {
     "name": "stderr",
     "output_type": "stream",
     "text": [
      "                                                                                                                       \r"
     ]
    },
    {
     "name": "stdout",
     "output_type": "stream",
     "text": [
      "Generation 32 - Current best internal CV score: -34899.3371329365\n"
     ]
    },
    {
     "name": "stderr",
     "output_type": "stream",
     "text": [
      "                                                                                                                       \r"
     ]
    },
    {
     "name": "stdout",
     "output_type": "stream",
     "text": [
      "Generation 33 - Current best internal CV score: -33551.09900793651\n"
     ]
    },
    {
     "name": "stderr",
     "output_type": "stream",
     "text": [
      "                                                                                                                       \r"
     ]
    },
    {
     "name": "stdout",
     "output_type": "stream",
     "text": [
      "Generation 34 - Current best internal CV score: -33551.09900793651\n"
     ]
    },
    {
     "name": "stderr",
     "output_type": "stream",
     "text": [
      "                                                                                                                       \r"
     ]
    },
    {
     "name": "stdout",
     "output_type": "stream",
     "text": [
      "Generation 35 - Current best internal CV score: -33551.09900793651\n"
     ]
    },
    {
     "name": "stderr",
     "output_type": "stream",
     "text": [
      "                                                                                                                       \r"
     ]
    },
    {
     "name": "stdout",
     "output_type": "stream",
     "text": [
      "Generation 36 - Current best internal CV score: -33551.09900793651\n"
     ]
    },
    {
     "name": "stderr",
     "output_type": "stream",
     "text": [
      "                                                                                                                       \r"
     ]
    },
    {
     "name": "stdout",
     "output_type": "stream",
     "text": [
      "Generation 37 - Current best internal CV score: -33551.09900793651\n"
     ]
    },
    {
     "name": "stderr",
     "output_type": "stream",
     "text": [
      "                                                                                                                       \r"
     ]
    },
    {
     "name": "stdout",
     "output_type": "stream",
     "text": [
      "Generation 38 - Current best internal CV score: -33108.674166666664\n"
     ]
    },
    {
     "name": "stderr",
     "output_type": "stream",
     "text": [
      "                                                                                                                       \r"
     ]
    },
    {
     "name": "stdout",
     "output_type": "stream",
     "text": [
      "Generation 39 - Current best internal CV score: -33108.674166666664\n"
     ]
    },
    {
     "name": "stderr",
     "output_type": "stream",
     "text": [
      "                                                                                                                       \r"
     ]
    },
    {
     "name": "stdout",
     "output_type": "stream",
     "text": [
      "Generation 40 - Current best internal CV score: -33108.674166666664\n"
     ]
    },
    {
     "name": "stderr",
     "output_type": "stream",
     "text": [
      "                                                                                                                       \r"
     ]
    },
    {
     "name": "stdout",
     "output_type": "stream",
     "text": [
      "Generation 41 - Current best internal CV score: -33108.674166666664\n"
     ]
    },
    {
     "name": "stderr",
     "output_type": "stream",
     "text": [
      "                                                                                                                       \r"
     ]
    },
    {
     "name": "stdout",
     "output_type": "stream",
     "text": [
      "Generation 42 - Current best internal CV score: -33108.674166666664\n"
     ]
    },
    {
     "name": "stderr",
     "output_type": "stream",
     "text": [
      "                                                                                                                       \r"
     ]
    },
    {
     "name": "stdout",
     "output_type": "stream",
     "text": [
      "Generation 43 - Current best internal CV score: -33108.674166666664\n"
     ]
    },
    {
     "name": "stderr",
     "output_type": "stream",
     "text": [
      "                                                                                                                       \r"
     ]
    },
    {
     "name": "stdout",
     "output_type": "stream",
     "text": [
      "Generation 44 - Current best internal CV score: -33108.674166666664\n"
     ]
    },
    {
     "name": "stderr",
     "output_type": "stream",
     "text": [
      "                                                                                                                       \r"
     ]
    },
    {
     "name": "stdout",
     "output_type": "stream",
     "text": [
      "Generation 45 - Current best internal CV score: -33108.674166666664\n"
     ]
    },
    {
     "name": "stderr",
     "output_type": "stream",
     "text": [
      "                                                                                                                       \r"
     ]
    },
    {
     "name": "stdout",
     "output_type": "stream",
     "text": [
      "Generation 46 - Current best internal CV score: -33108.674166666664\n"
     ]
    },
    {
     "name": "stderr",
     "output_type": "stream",
     "text": [
      "                                                                                                                       \r"
     ]
    },
    {
     "name": "stdout",
     "output_type": "stream",
     "text": [
      "Generation 47 - Current best internal CV score: -33108.674166666664\n"
     ]
    },
    {
     "name": "stderr",
     "output_type": "stream",
     "text": [
      "                                                                                                                       \r"
     ]
    },
    {
     "name": "stdout",
     "output_type": "stream",
     "text": [
      "Generation 48 - Current best internal CV score: -33108.674166666664\n"
     ]
    },
    {
     "name": "stderr",
     "output_type": "stream",
     "text": [
      "                                                                                                                       \r"
     ]
    },
    {
     "name": "stdout",
     "output_type": "stream",
     "text": [
      "Generation 49 - Current best internal CV score: -33108.674166666664\n"
     ]
    },
    {
     "name": "stderr",
     "output_type": "stream",
     "text": [
      "                                                                                                                       \r"
     ]
    },
    {
     "name": "stdout",
     "output_type": "stream",
     "text": [
      "Generation 50 - Current best internal CV score: -33108.674166666664\n"
     ]
    },
    {
     "name": "stderr",
     "output_type": "stream",
     "text": [
      "                                                                                                                       \r"
     ]
    },
    {
     "name": "stdout",
     "output_type": "stream",
     "text": [
      "Generation 51 - Current best internal CV score: -33108.674166666664\n"
     ]
    },
    {
     "name": "stderr",
     "output_type": "stream",
     "text": [
      "                                                                                                                       \r"
     ]
    },
    {
     "name": "stdout",
     "output_type": "stream",
     "text": [
      "Generation 52 - Current best internal CV score: -33108.674166666664\n"
     ]
    },
    {
     "name": "stderr",
     "output_type": "stream",
     "text": [
      "                                                                                                                       \r"
     ]
    },
    {
     "name": "stdout",
     "output_type": "stream",
     "text": [
      "Generation 53 - Current best internal CV score: -33108.674166666664\n"
     ]
    },
    {
     "name": "stderr",
     "output_type": "stream",
     "text": [
      "                                                                                                                       \r"
     ]
    },
    {
     "name": "stdout",
     "output_type": "stream",
     "text": [
      "Generation 54 - Current best internal CV score: -33108.674166666664\n"
     ]
    },
    {
     "name": "stderr",
     "output_type": "stream",
     "text": [
      "                                                                                                                       \r"
     ]
    },
    {
     "name": "stdout",
     "output_type": "stream",
     "text": [
      "Generation 55 - Current best internal CV score: -33108.674166666664\n"
     ]
    },
    {
     "name": "stderr",
     "output_type": "stream",
     "text": [
      "                                                                                                                       \r"
     ]
    },
    {
     "name": "stdout",
     "output_type": "stream",
     "text": [
      "Generation 56 - Current best internal CV score: -33108.674166666664\n"
     ]
    },
    {
     "name": "stderr",
     "output_type": "stream",
     "text": [
      "                                                                                                                       \r"
     ]
    },
    {
     "name": "stdout",
     "output_type": "stream",
     "text": [
      "Generation 57 - Current best internal CV score: -33108.674166666664\n"
     ]
    },
    {
     "name": "stderr",
     "output_type": "stream",
     "text": [
      "                                                                                                                       \r"
     ]
    },
    {
     "name": "stdout",
     "output_type": "stream",
     "text": [
      "Generation 58 - Current best internal CV score: -33108.674166666664\n"
     ]
    },
    {
     "name": "stderr",
     "output_type": "stream",
     "text": [
      "                                                                                                                       \r"
     ]
    },
    {
     "name": "stdout",
     "output_type": "stream",
     "text": [
      "Generation 59 - Current best internal CV score: -33108.674166666664\n"
     ]
    },
    {
     "name": "stderr",
     "output_type": "stream",
     "text": [
      "                                                                                                                       \r"
     ]
    },
    {
     "name": "stdout",
     "output_type": "stream",
     "text": [
      "Generation 60 - Current best internal CV score: -33108.674166666664\n"
     ]
    },
    {
     "name": "stderr",
     "output_type": "stream",
     "text": [
      "                                                                                                                       \r"
     ]
    },
    {
     "name": "stdout",
     "output_type": "stream",
     "text": [
      "Generation 61 - Current best internal CV score: -33108.674166666664\n"
     ]
    },
    {
     "name": "stderr",
     "output_type": "stream",
     "text": [
      "                                                                                                                       \r"
     ]
    },
    {
     "name": "stdout",
     "output_type": "stream",
     "text": [
      "Generation 62 - Current best internal CV score: -33108.674166666664\n"
     ]
    },
    {
     "name": "stderr",
     "output_type": "stream",
     "text": [
      "                                                                                                                       \r"
     ]
    },
    {
     "name": "stdout",
     "output_type": "stream",
     "text": [
      "Generation 63 - Current best internal CV score: -33108.674166666664\n"
     ]
    },
    {
     "name": "stderr",
     "output_type": "stream",
     "text": [
      "                                                                                                                       \r"
     ]
    },
    {
     "name": "stdout",
     "output_type": "stream",
     "text": [
      "Generation 64 - Current best internal CV score: -33108.674166666664\n"
     ]
    },
    {
     "name": "stderr",
     "output_type": "stream",
     "text": [
      "                                                                                                                       \r"
     ]
    },
    {
     "name": "stdout",
     "output_type": "stream",
     "text": [
      "Generation 65 - Current best internal CV score: -33108.674166666664\n"
     ]
    },
    {
     "name": "stderr",
     "output_type": "stream",
     "text": [
      "                                                                                                                       \r"
     ]
    },
    {
     "name": "stdout",
     "output_type": "stream",
     "text": [
      "Generation 66 - Current best internal CV score: -33108.674166666664\n"
     ]
    },
    {
     "name": "stderr",
     "output_type": "stream",
     "text": [
      "                                                                                                                       \r"
     ]
    },
    {
     "name": "stdout",
     "output_type": "stream",
     "text": [
      "Generation 67 - Current best internal CV score: -32746.007499999996\n"
     ]
    },
    {
     "name": "stderr",
     "output_type": "stream",
     "text": [
      "                                                                                                                       \r"
     ]
    },
    {
     "name": "stdout",
     "output_type": "stream",
     "text": [
      "Generation 68 - Current best internal CV score: -32746.007499999996\n"
     ]
    },
    {
     "name": "stderr",
     "output_type": "stream",
     "text": [
      "                                                                                                                       \r"
     ]
    },
    {
     "name": "stdout",
     "output_type": "stream",
     "text": [
      "Generation 69 - Current best internal CV score: -32746.007499999996\n"
     ]
    },
    {
     "name": "stderr",
     "output_type": "stream",
     "text": [
      "                                                                                                                       \r"
     ]
    },
    {
     "name": "stdout",
     "output_type": "stream",
     "text": [
      "Generation 70 - Current best internal CV score: -32746.007499999996\n"
     ]
    },
    {
     "name": "stderr",
     "output_type": "stream",
     "text": [
      "                                                                                                                       \r"
     ]
    },
    {
     "name": "stdout",
     "output_type": "stream",
     "text": [
      "Generation 71 - Current best internal CV score: -32746.007499999996\n"
     ]
    },
    {
     "name": "stderr",
     "output_type": "stream",
     "text": [
      "                                                                                                                       \r"
     ]
    },
    {
     "name": "stdout",
     "output_type": "stream",
     "text": [
      "Generation 72 - Current best internal CV score: -32746.007499999996\n"
     ]
    },
    {
     "name": "stderr",
     "output_type": "stream",
     "text": [
      "                                                                                                                       \r"
     ]
    },
    {
     "name": "stdout",
     "output_type": "stream",
     "text": [
      "Generation 73 - Current best internal CV score: -32746.007499999996\n"
     ]
    },
    {
     "name": "stderr",
     "output_type": "stream",
     "text": [
      "                                                                                                                       \r"
     ]
    },
    {
     "name": "stdout",
     "output_type": "stream",
     "text": [
      "Generation 74 - Current best internal CV score: -32746.007499999996\n"
     ]
    },
    {
     "name": "stderr",
     "output_type": "stream",
     "text": [
      "                                                                                                                       \r"
     ]
    },
    {
     "name": "stdout",
     "output_type": "stream",
     "text": [
      "Generation 75 - Current best internal CV score: -32746.007499999996\n"
     ]
    },
    {
     "name": "stderr",
     "output_type": "stream",
     "text": [
      "                                                                                                                       \r"
     ]
    },
    {
     "name": "stdout",
     "output_type": "stream",
     "text": [
      "Generation 76 - Current best internal CV score: -32746.007499999996\n"
     ]
    },
    {
     "name": "stderr",
     "output_type": "stream",
     "text": [
      "                                                                                                                       \r"
     ]
    },
    {
     "name": "stdout",
     "output_type": "stream",
     "text": [
      "Generation 77 - Current best internal CV score: -32746.007499999996\n"
     ]
    },
    {
     "name": "stderr",
     "output_type": "stream",
     "text": [
      "                                                                                                                       \r"
     ]
    },
    {
     "name": "stdout",
     "output_type": "stream",
     "text": [
      "Generation 78 - Current best internal CV score: -32746.007499999996\n"
     ]
    },
    {
     "name": "stderr",
     "output_type": "stream",
     "text": [
      "                                                                                                                       \r"
     ]
    },
    {
     "name": "stdout",
     "output_type": "stream",
     "text": [
      "Generation 79 - Current best internal CV score: -32746.007499999996\n"
     ]
    },
    {
     "name": "stderr",
     "output_type": "stream",
     "text": [
      "                                                                                                                       \r"
     ]
    },
    {
     "name": "stdout",
     "output_type": "stream",
     "text": [
      "Generation 80 - Current best internal CV score: -32746.007499999996\n"
     ]
    },
    {
     "name": "stderr",
     "output_type": "stream",
     "text": [
      "                                                                                                                       \r"
     ]
    },
    {
     "name": "stdout",
     "output_type": "stream",
     "text": [
      "Generation 81 - Current best internal CV score: -32746.007499999996\n"
     ]
    },
    {
     "name": "stderr",
     "output_type": "stream",
     "text": [
      "                                                                                                                       \r"
     ]
    },
    {
     "name": "stdout",
     "output_type": "stream",
     "text": [
      "Generation 82 - Current best internal CV score: -32746.007499999996\n"
     ]
    },
    {
     "name": "stderr",
     "output_type": "stream",
     "text": [
      "                                                                                                                       \r"
     ]
    },
    {
     "name": "stdout",
     "output_type": "stream",
     "text": [
      "Generation 83 - Current best internal CV score: -32746.007499999996\n"
     ]
    },
    {
     "name": "stderr",
     "output_type": "stream",
     "text": [
      "                                                                                                                       \r"
     ]
    },
    {
     "name": "stdout",
     "output_type": "stream",
     "text": [
      "Generation 84 - Current best internal CV score: -32746.007499999996\n"
     ]
    },
    {
     "name": "stderr",
     "output_type": "stream",
     "text": [
      "                                                                                                                       \r"
     ]
    },
    {
     "name": "stdout",
     "output_type": "stream",
     "text": [
      "Generation 85 - Current best internal CV score: -32746.007499999996\n"
     ]
    },
    {
     "name": "stderr",
     "output_type": "stream",
     "text": [
      "                                                                                                                       \r"
     ]
    },
    {
     "name": "stdout",
     "output_type": "stream",
     "text": [
      "Generation 86 - Current best internal CV score: -32746.007499999996\n"
     ]
    },
    {
     "name": "stderr",
     "output_type": "stream",
     "text": [
      "                                                                                                                       \r"
     ]
    },
    {
     "name": "stdout",
     "output_type": "stream",
     "text": [
      "Generation 87 - Current best internal CV score: -32746.007499999996\n"
     ]
    },
    {
     "name": "stderr",
     "output_type": "stream",
     "text": [
      "                                                                                                                       \r"
     ]
    },
    {
     "name": "stdout",
     "output_type": "stream",
     "text": [
      "Generation 88 - Current best internal CV score: -32746.007499999996\n"
     ]
    },
    {
     "name": "stderr",
     "output_type": "stream",
     "text": [
      "                                                                                                                       \r"
     ]
    },
    {
     "name": "stdout",
     "output_type": "stream",
     "text": [
      "Generation 89 - Current best internal CV score: -32746.007499999996\n"
     ]
    },
    {
     "name": "stderr",
     "output_type": "stream",
     "text": [
      "                                                                                                                       \r"
     ]
    },
    {
     "name": "stdout",
     "output_type": "stream",
     "text": [
      "Generation 90 - Current best internal CV score: -32746.007499999996\n"
     ]
    },
    {
     "name": "stderr",
     "output_type": "stream",
     "text": [
      "                                                                                                                       \r"
     ]
    },
    {
     "name": "stdout",
     "output_type": "stream",
     "text": [
      "Generation 91 - Current best internal CV score: -32746.007499999996\n"
     ]
    },
    {
     "name": "stderr",
     "output_type": "stream",
     "text": [
      "                                                                                                                       \r"
     ]
    },
    {
     "name": "stdout",
     "output_type": "stream",
     "text": [
      "Generation 92 - Current best internal CV score: -32746.007499999996\n"
     ]
    },
    {
     "name": "stderr",
     "output_type": "stream",
     "text": [
      "                                                                                                                       \r"
     ]
    },
    {
     "name": "stdout",
     "output_type": "stream",
     "text": [
      "Generation 93 - Current best internal CV score: -32746.007499999996\n"
     ]
    },
    {
     "name": "stderr",
     "output_type": "stream",
     "text": [
      "                                                                                                                       \r"
     ]
    },
    {
     "name": "stdout",
     "output_type": "stream",
     "text": [
      "Generation 94 - Current best internal CV score: -32746.007499999996\n"
     ]
    },
    {
     "name": "stderr",
     "output_type": "stream",
     "text": [
      "                                                                                                                       \r"
     ]
    },
    {
     "name": "stdout",
     "output_type": "stream",
     "text": [
      "Generation 95 - Current best internal CV score: -32746.007499999996\n"
     ]
    },
    {
     "name": "stderr",
     "output_type": "stream",
     "text": [
      "                                                                                                                       \r"
     ]
    },
    {
     "name": "stdout",
     "output_type": "stream",
     "text": [
      "Generation 96 - Current best internal CV score: -32746.007499999996\n"
     ]
    },
    {
     "name": "stderr",
     "output_type": "stream",
     "text": [
      "                                                                                                                       \r"
     ]
    },
    {
     "name": "stdout",
     "output_type": "stream",
     "text": [
      "Generation 97 - Current best internal CV score: -32746.007499999996\n"
     ]
    },
    {
     "name": "stderr",
     "output_type": "stream",
     "text": [
      "                                                                                                                       \r"
     ]
    },
    {
     "name": "stdout",
     "output_type": "stream",
     "text": [
      "Generation 98 - Current best internal CV score: -32746.007499999996\n"
     ]
    },
    {
     "name": "stderr",
     "output_type": "stream",
     "text": [
      "                                                                                                                       \r"
     ]
    },
    {
     "name": "stdout",
     "output_type": "stream",
     "text": [
      "Generation 99 - Current best internal CV score: -32746.007499999996\n"
     ]
    },
    {
     "name": "stderr",
     "output_type": "stream",
     "text": [
      "                                                                                                                       \r"
     ]
    },
    {
     "name": "stdout",
     "output_type": "stream",
     "text": [
      "Generation 100 - Current best internal CV score: -32746.007499999996\n"
     ]
    },
    {
     "name": "stderr",
     "output_type": "stream",
     "text": [
      "                                                                                                                       \r"
     ]
    },
    {
     "name": "stdout",
     "output_type": "stream",
     "text": [
      "Generation 101 - Current best internal CV score: -32746.007499999996\n"
     ]
    },
    {
     "name": "stderr",
     "output_type": "stream",
     "text": [
      "                                                                                                                       \r"
     ]
    },
    {
     "name": "stdout",
     "output_type": "stream",
     "text": [
      "Generation 102 - Current best internal CV score: -32746.007499999996\n"
     ]
    },
    {
     "name": "stderr",
     "output_type": "stream",
     "text": [
      "                                                                                                                       \r"
     ]
    },
    {
     "name": "stdout",
     "output_type": "stream",
     "text": [
      "Generation 103 - Current best internal CV score: -32746.007499999996\n"
     ]
    },
    {
     "name": "stderr",
     "output_type": "stream",
     "text": [
      "                                                                                                                       \r"
     ]
    },
    {
     "name": "stdout",
     "output_type": "stream",
     "text": [
      "Generation 104 - Current best internal CV score: -32746.007499999996\n"
     ]
    },
    {
     "name": "stderr",
     "output_type": "stream",
     "text": [
      "                                                                                                                       \r"
     ]
    },
    {
     "name": "stdout",
     "output_type": "stream",
     "text": [
      "Generation 105 - Current best internal CV score: -32746.007499999996\n"
     ]
    },
    {
     "name": "stderr",
     "output_type": "stream",
     "text": [
      "                                                                                                                       \r"
     ]
    },
    {
     "name": "stdout",
     "output_type": "stream",
     "text": [
      "Generation 106 - Current best internal CV score: -32746.007499999996\n"
     ]
    },
    {
     "name": "stderr",
     "output_type": "stream",
     "text": [
      "                                                                                                                       \r"
     ]
    },
    {
     "name": "stdout",
     "output_type": "stream",
     "text": [
      "Generation 107 - Current best internal CV score: -32746.007499999996\n"
     ]
    },
    {
     "name": "stderr",
     "output_type": "stream",
     "text": [
      "                                                                                                                       \r"
     ]
    },
    {
     "name": "stdout",
     "output_type": "stream",
     "text": [
      "Generation 108 - Current best internal CV score: -32746.007499999996\n"
     ]
    },
    {
     "name": "stderr",
     "output_type": "stream",
     "text": [
      "                                                                                                                       \r"
     ]
    },
    {
     "name": "stdout",
     "output_type": "stream",
     "text": [
      "Generation 109 - Current best internal CV score: -32746.007499999996\n"
     ]
    },
    {
     "name": "stderr",
     "output_type": "stream",
     "text": [
      "                                                                                                                       \r"
     ]
    },
    {
     "name": "stdout",
     "output_type": "stream",
     "text": [
      "Generation 110 - Current best internal CV score: -32746.007499999996\n"
     ]
    },
    {
     "name": "stderr",
     "output_type": "stream",
     "text": [
      "                                                                                                                       \r"
     ]
    },
    {
     "name": "stdout",
     "output_type": "stream",
     "text": [
      "Generation 111 - Current best internal CV score: -32746.007499999996\n"
     ]
    },
    {
     "name": "stderr",
     "output_type": "stream",
     "text": [
      "                                                                                                                       \r"
     ]
    },
    {
     "name": "stdout",
     "output_type": "stream",
     "text": [
      "Generation 112 - Current best internal CV score: -32746.007499999996\n"
     ]
    },
    {
     "name": "stderr",
     "output_type": "stream",
     "text": [
      "                                                                                                                       \r"
     ]
    },
    {
     "name": "stdout",
     "output_type": "stream",
     "text": [
      "Generation 113 - Current best internal CV score: -32746.007499999996\n"
     ]
    },
    {
     "name": "stderr",
     "output_type": "stream",
     "text": [
      "                                                                                                                       \r"
     ]
    },
    {
     "name": "stdout",
     "output_type": "stream",
     "text": [
      "Generation 114 - Current best internal CV score: -32746.007499999996\n"
     ]
    },
    {
     "name": "stderr",
     "output_type": "stream",
     "text": [
      "                                                                                                                       \r"
     ]
    },
    {
     "name": "stdout",
     "output_type": "stream",
     "text": [
      "Generation 115 - Current best internal CV score: -32746.007499999996\n"
     ]
    },
    {
     "name": "stderr",
     "output_type": "stream",
     "text": [
      "                                                                                                                       \r"
     ]
    },
    {
     "name": "stdout",
     "output_type": "stream",
     "text": [
      "Generation 116 - Current best internal CV score: -32746.007499999996\n"
     ]
    },
    {
     "name": "stderr",
     "output_type": "stream",
     "text": [
      "                                                                                                                       \r"
     ]
    },
    {
     "name": "stdout",
     "output_type": "stream",
     "text": [
      "Generation 117 - Current best internal CV score: -32746.007499999996\n"
     ]
    },
    {
     "name": "stderr",
     "output_type": "stream",
     "text": [
      "                                                                                                                       \r"
     ]
    },
    {
     "name": "stdout",
     "output_type": "stream",
     "text": [
      "Generation 118 - Current best internal CV score: -32746.007499999996\n"
     ]
    },
    {
     "name": "stderr",
     "output_type": "stream",
     "text": [
      "                                                                                                                       \r"
     ]
    },
    {
     "name": "stdout",
     "output_type": "stream",
     "text": [
      "Generation 119 - Current best internal CV score: -32746.007499999996\n"
     ]
    },
    {
     "name": "stderr",
     "output_type": "stream",
     "text": [
      "                                                                                                                       \r"
     ]
    },
    {
     "name": "stdout",
     "output_type": "stream",
     "text": [
      "Generation 120 - Current best internal CV score: -32746.007499999996\n"
     ]
    },
    {
     "name": "stderr",
     "output_type": "stream",
     "text": [
      "                                                                                                                       \r"
     ]
    },
    {
     "name": "stdout",
     "output_type": "stream",
     "text": [
      "Generation 121 - Current best internal CV score: -32746.007499999996\n"
     ]
    },
    {
     "name": "stderr",
     "output_type": "stream",
     "text": [
      "                                                                                                                       \r"
     ]
    },
    {
     "name": "stdout",
     "output_type": "stream",
     "text": [
      "Generation 122 - Current best internal CV score: -32746.007499999996\n"
     ]
    },
    {
     "name": "stderr",
     "output_type": "stream",
     "text": [
      "                                                                                                                       \r"
     ]
    },
    {
     "name": "stdout",
     "output_type": "stream",
     "text": [
      "Generation 123 - Current best internal CV score: -32746.007499999996\n"
     ]
    },
    {
     "name": "stderr",
     "output_type": "stream",
     "text": [
      "                                                                                                                       \r"
     ]
    },
    {
     "name": "stdout",
     "output_type": "stream",
     "text": [
      "Generation 124 - Current best internal CV score: -32746.007499999996\n"
     ]
    },
    {
     "name": "stderr",
     "output_type": "stream",
     "text": [
      "                                                                                                                       \r"
     ]
    },
    {
     "name": "stdout",
     "output_type": "stream",
     "text": [
      "Generation 125 - Current best internal CV score: -32746.007499999996\n"
     ]
    },
    {
     "name": "stderr",
     "output_type": "stream",
     "text": [
      "                                                                                                                       \r"
     ]
    },
    {
     "name": "stdout",
     "output_type": "stream",
     "text": [
      "Generation 126 - Current best internal CV score: -32746.007499999996\n"
     ]
    },
    {
     "name": "stderr",
     "output_type": "stream",
     "text": [
      "                                                                                                                       \r"
     ]
    },
    {
     "name": "stdout",
     "output_type": "stream",
     "text": [
      "Generation 127 - Current best internal CV score: -32746.007499999996\n"
     ]
    },
    {
     "name": "stderr",
     "output_type": "stream",
     "text": [
      "                                                                                                                       \r"
     ]
    },
    {
     "name": "stdout",
     "output_type": "stream",
     "text": [
      "Generation 128 - Current best internal CV score: -32746.007499999996\n"
     ]
    },
    {
     "name": "stderr",
     "output_type": "stream",
     "text": [
      "                                                                                                                       \r"
     ]
    },
    {
     "name": "stdout",
     "output_type": "stream",
     "text": [
      "Generation 129 - Current best internal CV score: -32746.007499999996\n"
     ]
    },
    {
     "name": "stderr",
     "output_type": "stream",
     "text": [
      "                                                                                                                       \r"
     ]
    },
    {
     "name": "stdout",
     "output_type": "stream",
     "text": [
      "Generation 130 - Current best internal CV score: -32746.007499999996\n"
     ]
    },
    {
     "name": "stderr",
     "output_type": "stream",
     "text": [
      "                                                                                                                       \r"
     ]
    },
    {
     "name": "stdout",
     "output_type": "stream",
     "text": [
      "Generation 131 - Current best internal CV score: -32647.56074074074\n"
     ]
    },
    {
     "name": "stderr",
     "output_type": "stream",
     "text": [
      "                                                                                                                       \r"
     ]
    },
    {
     "name": "stdout",
     "output_type": "stream",
     "text": [
      "Generation 132 - Current best internal CV score: -32647.56074074074\n"
     ]
    },
    {
     "name": "stderr",
     "output_type": "stream",
     "text": [
      "                                                                                                                       \r"
     ]
    },
    {
     "name": "stdout",
     "output_type": "stream",
     "text": [
      "Generation 133 - Current best internal CV score: -32647.56074074074\n"
     ]
    },
    {
     "name": "stderr",
     "output_type": "stream",
     "text": [
      "                                                                                                                       \r"
     ]
    },
    {
     "name": "stdout",
     "output_type": "stream",
     "text": [
      "Generation 134 - Current best internal CV score: -32647.56074074074\n"
     ]
    },
    {
     "name": "stderr",
     "output_type": "stream",
     "text": [
      "                                                                                                                       \r"
     ]
    },
    {
     "name": "stdout",
     "output_type": "stream",
     "text": [
      "Generation 135 - Current best internal CV score: -32647.56074074074\n"
     ]
    },
    {
     "name": "stderr",
     "output_type": "stream",
     "text": [
      "                                                                                                                       \r"
     ]
    },
    {
     "name": "stdout",
     "output_type": "stream",
     "text": [
      "Generation 136 - Current best internal CV score: -32647.56074074074\n"
     ]
    },
    {
     "name": "stderr",
     "output_type": "stream",
     "text": [
      "                                                                                                                       \r"
     ]
    },
    {
     "name": "stdout",
     "output_type": "stream",
     "text": [
      "Generation 137 - Current best internal CV score: -32095.930052910047\n"
     ]
    },
    {
     "name": "stderr",
     "output_type": "stream",
     "text": [
      "                                                                                                                       \r"
     ]
    },
    {
     "name": "stdout",
     "output_type": "stream",
     "text": [
      "Generation 138 - Current best internal CV score: -32095.930052910047\n"
     ]
    },
    {
     "name": "stderr",
     "output_type": "stream",
     "text": [
      "                                                                                                                       \r"
     ]
    },
    {
     "name": "stdout",
     "output_type": "stream",
     "text": [
      "Generation 139 - Current best internal CV score: -32095.930052910047\n"
     ]
    },
    {
     "name": "stderr",
     "output_type": "stream",
     "text": [
      "                                                                                                                       \r"
     ]
    },
    {
     "name": "stdout",
     "output_type": "stream",
     "text": [
      "Generation 140 - Current best internal CV score: -32095.930052910047\n"
     ]
    },
    {
     "name": "stderr",
     "output_type": "stream",
     "text": [
      "                                                                                                                       \r"
     ]
    },
    {
     "name": "stdout",
     "output_type": "stream",
     "text": [
      "Generation 141 - Current best internal CV score: -32095.930052910047\n"
     ]
    },
    {
     "name": "stderr",
     "output_type": "stream",
     "text": [
      "                                                                                                                       \r"
     ]
    },
    {
     "name": "stdout",
     "output_type": "stream",
     "text": [
      "Generation 142 - Current best internal CV score: -25732.179911816576\n"
     ]
    },
    {
     "name": "stderr",
     "output_type": "stream",
     "text": [
      "                                                                                                                       \r"
     ]
    },
    {
     "name": "stdout",
     "output_type": "stream",
     "text": [
      "Generation 143 - Current best internal CV score: -25732.179911816576\n"
     ]
    },
    {
     "name": "stderr",
     "output_type": "stream",
     "text": [
      "                                                                                                                       \r"
     ]
    },
    {
     "name": "stdout",
     "output_type": "stream",
     "text": [
      "\n"
     ]
    },
    {
     "name": "stderr",
     "output_type": "stream",
     "text": [
      "                                                                                                                       \r"
     ]
    },
    {
     "name": "stdout",
     "output_type": "stream",
     "text": [
      "90.44502315 minutes have elapsed. TPOT will close down.\n",
      "TPOT closed prematurely. Will use the current best pipeline.\n"
     ]
    },
    {
     "name": "stderr",
     "output_type": "stream",
     "text": [
      "                                                                                                                       \r"
     ]
    },
    {
     "name": "stdout",
     "output_type": "stream",
     "text": [
      "\n",
      "Best pipeline: DecisionTreeRegressor(ElasticNetCV(ExtraTreesRegressor(RandomForestRegressor(input_matrix, bootstrap=True, max_features=0.3, min_samples_leaf=8, min_samples_split=4, n_estimators=100), bootstrap=False, max_features=0.15, min_samples_leaf=5, min_samples_split=9, n_estimators=100), l1_ratio=0.95, tol=0.1), max_depth=4, min_samples_leaf=2, min_samples_split=6)\n"
     ]
    },
    {
     "data": {
      "text/plain": [
       "TPOTRegressor(config_dict={'xgboost.XGBRegressor': {'n_estimators': [100], 'min_child_weight': range(1, 21), 'learning_rate': [0.001, 0.01, 0.1, 0.5, 1.0], 'max_depth': range(1, 11), 'subsample': array([ 0.05,  0.1 ,  0.15,  0.2 ,  0.25,  0.3 ,  0.35,  0.4 ,  0.45,\n",
       "        0.5 ,  0.55,  0.6 ,  0.65,  0.7 ,  0.75,...e_selection.VarianceThreshold': {'threshold': [0.0001, 0.0005, 0.001, 0.005, 0.01, 0.05, 0.1, 0.2]}},\n",
       "       crossover_rate=0.1,\n",
       "       cv=TimeSeriesSplit(max_train_size=None, n_splits=3),\n",
       "       disable_update_check=False, early_stop=None, generations=1000000,\n",
       "       max_eval_time_mins=5, max_time_mins=90, memory=None,\n",
       "       mutation_rate=0.9, n_jobs=1, offspring_size=100,\n",
       "       periodic_checkpoint_folder=None, population_size=100,\n",
       "       random_state=None, scoring=None, subsample=1.0, verbosity=2,\n",
       "       warm_start=False)"
      ]
     },
     "execution_count": 11,
     "metadata": {},
     "output_type": "execute_result"
    }
   ],
   "source": [
    "tpot = TPOTRegressor(max_time_mins=90, cv=tscv, verbosity=2)\n",
    "tpot.fit(X_train, Y_train)"
   ]
  },
  {
   "cell_type": "code",
   "execution_count": 12,
   "metadata": {},
   "outputs": [
    {
     "data": {
      "text/plain": [
       "-14362.049251700681"
      ]
     },
     "execution_count": 12,
     "metadata": {},
     "output_type": "execute_result"
    }
   ],
   "source": [
    "tpot.score(X_test, Y_test)"
   ]
  },
  {
   "cell_type": "code",
   "execution_count": null,
   "metadata": {
    "collapsed": true
   },
   "outputs": [],
   "source": [
    "tpot.export('tpot_predict_traffic_pipeline.py')"
   ]
  }
 ],
 "metadata": {
  "kernelspec": {
   "display_name": "Python [default]",
   "language": "python",
   "name": "python3"
  },
  "language_info": {
   "codemirror_mode": {
    "name": "ipython",
    "version": 3
   },
   "file_extension": ".py",
   "mimetype": "text/x-python",
   "name": "python",
   "nbconvert_exporter": "python",
   "pygments_lexer": "ipython3",
   "version": "3.5.4"
  }
 },
 "nbformat": 4,
 "nbformat_minor": 2
}
